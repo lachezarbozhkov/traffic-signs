{
 "cells": [
  {
   "cell_type": "markdown",
   "metadata": {},
   "source": [
    "# Traffic Sign Classification with Keras\n",
    "\n",
    "Keras exists to make coding deep neural networks simpler. To demonstrate just how easy it is, you’re going to use Keras to build a convolutional neural network in a few dozen lines of code.\n",
    "\n",
    "You’ll be connecting the concepts from the previous lessons to the methods that Keras provides."
   ]
  },
  {
   "cell_type": "markdown",
   "metadata": {},
   "source": [
    "## Dataset\n",
    "\n",
    "The network you'll build with Keras is similar to the example that you can find in Keras’s GitHub repository that builds out a [convolutional neural network for MNIST](https://github.com/fchollet/keras/blob/master/examples/mnist_cnn.py). \n",
    "\n",
    "However, instead of using the [MNIST](http://yann.lecun.com/exdb/mnist/) dataset, you're going to use the [German Traffic Sign Recognition Benchmark](http://benchmark.ini.rub.de/?section=gtsrb&subsection=news) dataset that you've used previously.\n",
    "\n",
    "You can download pickle files with sanitized traffic sign data here."
   ]
  },
  {
   "cell_type": "markdown",
   "metadata": {},
   "source": [
    "## Overview\n",
    "\n",
    "Here are the steps you'll take to build the network:\n",
    "\n",
    "1. First load the data.\n",
    "2. Build a feedforward neural network to classify traffic signs.\n",
    "3. Build a convolutional neural network to classify traffic signs.\n",
    "\n",
    "Keep an eye on the network’s accuracy over time. Once the accuracy reaches the 98% range, you can be confident that you’ve built and trained an effective model."
   ]
  },
  {
   "cell_type": "markdown",
   "metadata": {},
   "source": [
    "## Load the Data\n",
    "\n",
    "Start by importing the data from the pickle file."
   ]
  },
  {
   "cell_type": "code",
   "execution_count": 1,
   "metadata": {
    "collapsed": false
   },
   "outputs": [
    {
     "name": "stderr",
     "output_type": "stream",
     "text": [
      "/home/rbank/.pyenv/versions/3.5.1/lib/python3.5/site-packages/sklearn/cross_validation.py:44: DeprecationWarning: This module was deprecated in version 0.18 in favor of the model_selection module into which all the refactored classes and functions are moved. Also note that the interface of the new CV iterators are different from that of this module. This module will be removed in 0.20.\n",
      "  \"This module will be removed in 0.20.\", DeprecationWarning)\n"
     ]
    }
   ],
   "source": [
    "import math\n",
    "\n",
    "import matplotlib.pyplot as plt\n",
    "import matplotlib.image as mpimg\n",
    "import numpy as np\n",
    "import pandas as pd\n",
    "from sklearn.metrics import confusion_matrix\n",
    "from sklearn.cross_validation import train_test_split\n",
    "import tensorflow as tf\n",
    "import pickle \n",
    "\n",
    "%matplotlib inline"
   ]
  },
  {
   "cell_type": "code",
   "execution_count": 12,
   "metadata": {
    "collapsed": false
   },
   "outputs": [],
   "source": [
    "# TODO: Implement load the data here.\n",
    "training_file = \"traffic-signs-data.zip/train.p\"\n",
    "testing_file = \"traffic-signs-data.zip/test.p\"\n",
    "\n",
    "with open(training_file, mode='rb') as f:\n",
    "    train = pickle.load(f)\n",
    "with open(testing_file, mode='rb') as f:\n",
    "    test = pickle.load(f)\n",
    "    \n",
    "X_train, y_train = train['features'], train['labels']\n",
    "X_test, y_test = test['features'], test['labels']\n",
    "train.keys()\n",
    "\n",
    "# STOP: Do not change the tests below. Your implementation should pass these tests. \n",
    "assert(X_train.shape[0] == y_train.shape[0]), \"The number of images is not equal to the number of labels.\"\n",
    "assert(X_train.shape[1:] == (32,32,3)), \"The dimensions of the images are not 32 x 32 x 3.\""
   ]
  },
  {
   "cell_type": "markdown",
   "metadata": {},
   "source": [
    "## Normalize the data\n",
    "\n",
    "Now that you've loaded the training data, normalize the input so that it has a mean of 0 and a range between -0.5 and 0.5."
   ]
  },
  {
   "cell_type": "code",
   "execution_count": 13,
   "metadata": {
    "collapsed": false
   },
   "outputs": [],
   "source": [
    "# TODO: Implement data normalization here.\n",
    "def normalize(x):\n",
    "    return x / 255.0 - 0.5\n",
    "\n",
    "\n",
    "if X_train.max() > 1:\n",
    "    X_train = normalize(X_train)\n",
    "    X_test = normalize(X_test)\n",
    "\n",
    "# STOP: Do not change the tests below. Your implementation should pass these tests. \n",
    "assert(round(np.mean(X_train)) == 0), \"The mean of the input data is: %f\" % np.mean(X_train)\n",
    "assert(np.min(X_train) == -0.5 and np.max(X_train) == 0.5), \"The range of the input data is: %.1f to %.1f\" % (np.min(X_train), np.max(X_train))"
   ]
  },
  {
   "cell_type": "code",
   "execution_count": 15,
   "metadata": {
    "collapsed": false
   },
   "outputs": [],
   "source": [
    "if False:\n",
    "    X_train = X_train.reshape((-1, 32*32*3))\n",
    "    X_test = X_test.reshape((-1, 32*32*3))"
   ]
  },
  {
   "cell_type": "markdown",
   "metadata": {},
   "source": [
    "## Build a Two-Layer Feedfoward Network\n",
    "\n",
    "The code you've written so far is for data processing, not specific to Keras. Here you're going to build Keras-specific code.\n",
    "\n",
    "Build a two-layer feedforward neural network, with 128 neurons in the fully-connected hidden layer. \n",
    "\n",
    "To get started, review the Keras documentation about [models](https://keras.io/models/sequential/) and [layers](https://keras.io/layers/core/).\n",
    "\n",
    "The Keras example of a [Multi-Layer Perceptron](https://github.com/fchollet/keras/blob/master/examples/mnist_mlp.py) network is similar to what you need to do here. Use that as a guide, but keep in mind that there are a number of differences."
   ]
  },
  {
   "cell_type": "code",
   "execution_count": 16,
   "metadata": {
    "collapsed": false
   },
   "outputs": [],
   "source": [
    "from keras.models import Sequential\n",
    "from keras.layers.core import Dense, Dropout, Activation, Flatten\n",
    "from keras.optimizers import SGD, Adam, RMSprop\n",
    "from keras.utils import np_utils\n",
    "\n",
    "nb_classes = np.unique(y_train).shape[0]\n",
    "y_train = np_utils.to_categorical(y_train, nb_classes)\n",
    "y_test = np_utils.to_categorical(y_test, nb_classes)\n"
   ]
  },
  {
   "cell_type": "code",
   "execution_count": 7,
   "metadata": {
    "collapsed": false
   },
   "outputs": [
    {
     "name": "stdout",
     "output_type": "stream",
     "text": [
      "____________________________________________________________________________________________________\n",
      "Layer (type)                     Output Shape          Param #     Connected to                     \n",
      "====================================================================================================\n",
      "hidden1 (Dense)                  (None, 128)           393344      dense_input_1[0][0]              \n",
      "____________________________________________________________________________________________________\n",
      "output (Dense)                   (None, 43)            5547        hidden1[0][0]                    \n",
      "====================================================================================================\n",
      "Total params: 398891\n",
      "____________________________________________________________________________________________________\n"
     ]
    }
   ],
   "source": [
    "# TODO: Build a two-layer feedforward neural network with Keras here.\n",
    "# convert class vectors to binary class matrices\n",
    "\n",
    "model = Sequential()\n",
    "model.add(Dense(128, input_shape=(32*32*3,), activation='relu', name='hidden1'))\n",
    "model.add(Dense(nb_classes, activation='softmax', name='output'))\n",
    "\n",
    "model.summary()\n",
    "\n",
    "model.compile(loss='categorical_crossentropy',\n",
    "              optimizer=Adam(),\n",
    "              metrics=['accuracy'])\n",
    "\n",
    "# STOP: Do not change the tests below. Your implementation should pass these tests.\n",
    "assert(model.get_layer(name=\"hidden1\").input_shape == (None, 32*32*3)), \"The input shape is: %s\" % model.get_layer(name=\"hidden1\").input_shape\n",
    "assert(model.get_layer(name=\"output\").output_shape == (None, 43)), \"The output shape is: %s\" % model.get_layer(name=\"output\").output_shape "
   ]
  },
  {
   "cell_type": "markdown",
   "metadata": {},
   "source": [
    "## Train the Network\n",
    "Compile and train the network for 2 epochs. [Use the `adam` optimizer, with `categorical_crossentropy` loss.](https://keras.io/models/sequential/)\n",
    "\n",
    "Hint 1: In order to use categorical cross entropy, you will need to [one-hot encode the labels](https://github.com/fchollet/keras/blob/master/keras/utils/np_utils.py).\n",
    "\n",
    "Hint 2: In order to pass the input images to the fully-connected hidden layer, you will need to [reshape the input](https://github.com/fchollet/keras/blob/master/examples/mnist_mlp.py).\n",
    "\n",
    "Hint 3: Keras's `.fit()` method returns a `History.history` object, which the tests below use. Save that to a variable named `history`."
   ]
  },
  {
   "cell_type": "code",
   "execution_count": 8,
   "metadata": {
    "collapsed": false
   },
   "outputs": [
    {
     "name": "stdout",
     "output_type": "stream",
     "text": [
      "Train on 39209 samples, validate on 12630 samples\n",
      "Epoch 1/2\n",
      "39209/39209 [==============================] - 3s - loss: 1.8989 - acc: 0.5191 - val_loss: 1.4663 - val_acc: 0.5914\n",
      "Epoch 2/2\n",
      "39209/39209 [==============================] - 1s - loss: 0.9129 - acc: 0.7709 - val_loss: 1.1463 - val_acc: 0.6838\n",
      "Test score: 1.14632386063\n",
      "Test accuracy: 0.683768804415\n"
     ]
    }
   ],
   "source": [
    "# TODO: Compile and train the model here.\n",
    "history = model.fit(X_train, y_train,\n",
    "                    batch_size=256, nb_epoch=2,\n",
    "                    verbose=1, validation_data=(X_test, y_test))\n",
    "score = model.evaluate(X_test,y_test, verbose=0)\n",
    "print('Test score:', score[0])\n",
    "print('Test accuracy:', score[1])\n",
    "\n",
    "# STOP: Do not change the tests below. Your implementation should pass these tests.\n",
    "assert(history.history['acc'][0] > 0.5), \"The training accuracy was: %.3f\" % history.history['acc']"
   ]
  },
  {
   "cell_type": "markdown",
   "metadata": {},
   "source": [
    "## Validate the Network\n",
    "Split the training data into a training and validation set.\n",
    "\n",
    "Measure the [validation accuracy](https://keras.io/models/sequential/) of the network after two training epochs.\n",
    "\n",
    "Hint: [Use the `train_test_split()` method](http://scikit-learn.org/stable/modules/generated/sklearn.model_selection.train_test_split.html) from scikit-learn."
   ]
  },
  {
   "cell_type": "code",
   "execution_count": 17,
   "metadata": {
    "collapsed": false
   },
   "outputs": [
    {
     "name": "stdout",
     "output_type": "stream",
     "text": [
      "(39209, 32, 32, 3) (39209, 43)\n",
      "(29406, 32, 32, 3) (29406, 43)\n"
     ]
    }
   ],
   "source": [
    "print(X_train.shape, y_train.shape)\n",
    "X_train, X_val, y_train, y_val = train_test_split(X_train, y_train)\n",
    "print(X_train.shape, y_train.shape)"
   ]
  },
  {
   "cell_type": "code",
   "execution_count": 11,
   "metadata": {
    "collapsed": false
   },
   "outputs": [
    {
     "name": "stdout",
     "output_type": "stream",
     "text": [
      "Train on 29406 samples, validate on 9803 samples\n",
      "Epoch 1/2\n",
      "29406/29406 [==============================] - 1s - loss: 0.6579 - acc: 0.8402 - val_loss: 0.5766 - val_acc: 0.8633\n",
      "Epoch 2/2\n",
      "29406/29406 [==============================] - 1s - loss: 0.5475 - acc: 0.8650 - val_loss: 0.5466 - val_acc: 0.8451\n",
      "Test score: 0.939177096617\n",
      "Test accuracy: 0.730245447357\n"
     ]
    }
   ],
   "source": [
    "# TODO: Split some of the training data into a validation dataset.\n",
    "# TODO: Compile and train the model to measure validation accuracy.\n",
    "\n",
    "history = model.fit(X_train, y_train,\n",
    "                    batch_size=256, nb_epoch=2,\n",
    "                    verbose=1, validation_data=(X_val, y_val))\n",
    "score = model.evaluate(X_test, y_test, verbose=0)\n",
    "print('Test score:', score[0])\n",
    "print('Test accuracy:', score[1])\n",
    "\n",
    "\n",
    "# STOP: Do not change the tests below. Your implementation should pass these tests.\n",
    "assert(round(X_train.shape[0] / float(X_val.shape[0])) == 3), \"The training set is %.3f times larger than the validation set.\" % X_train.shape[0] / float(X_val.shape[0])\n",
    "assert(history.history['val_acc'][0] > 0.6), \"The validation accuracy is: %.3f\" % history.history['val_acc'][0]"
   ]
  },
  {
   "cell_type": "markdown",
   "metadata": {},
   "source": [
    "**Validation Accuracy**: val_acc: 0.7680 Test accuracy: 0.655265241489"
   ]
  },
  {
   "cell_type": "markdown",
   "metadata": {},
   "source": [
    "## Congratulations\n",
    "You've built a feedforward neural network in Keras!\n",
    "\n",
    "Don't stop here! Next, you'll add a convolutional layer to drive.py."
   ]
  },
  {
   "cell_type": "markdown",
   "metadata": {},
   "source": [
    "## Convolutions\n",
    "Build a new network, similar to your existing network. Before the hidden layer, add a 3x3 [convolutional layer](https://keras.io/layers/convolutional/#convolution2d) with 32 filters and valid padding.\n",
    "\n",
    "Then compile and train the network.\n",
    "\n",
    "Hint 1: The Keras example of a [convolutional neural network](https://github.com/fchollet/keras/blob/master/examples/mnist_cnn.py) for MNIST would be a good example to review.\n",
    "\n",
    "Hint 2: Now that the first layer of the network is a convolutional layer, you no longer need to reshape the input images before passing them to the network. You might need to reload your training data to recover the original shape.\n",
    "\n",
    "Hint 3: Add a [`Flatten()` layer](https://keras.io/layers/core/#flatten) between the convolutional layer and the fully-connected hidden layer."
   ]
  },
  {
   "cell_type": "code",
   "execution_count": 24,
   "metadata": {
    "collapsed": false
   },
   "outputs": [
    {
     "name": "stdout",
     "output_type": "stream",
     "text": [
      "____________________________________________________________________________________________________\n",
      "Layer (type)                     Output Shape          Param #     Connected to                     \n",
      "====================================================================================================\n",
      "convolution2d_7 (Convolution2D)  (None, 30, 30, 32)    896         convolution2d_input_7[0][0]      \n",
      "____________________________________________________________________________________________________\n",
      "activation_7 (Activation)        (None, 30, 30, 32)    0           convolution2d_7[0][0]            \n",
      "____________________________________________________________________________________________________\n",
      "flatten_7 (Flatten)              (None, 28800)         0           activation_7[0][0]               \n",
      "____________________________________________________________________________________________________\n",
      "hidden1 (Dense)                  (None, 128)           3686528     flatten_7[0][0]                  \n",
      "____________________________________________________________________________________________________\n",
      "output (Dense)                   (None, 43)            5547        hidden1[0][0]                    \n",
      "====================================================================================================\n",
      "Total params: 3692971\n",
      "____________________________________________________________________________________________________\n",
      "Train on 29406 samples, validate on 9803 samples\n",
      "Epoch 1/2\n",
      "29406/29406 [==============================] - 13s - loss: 0.8062 - acc: 0.7836 - val_loss: 0.3172 - val_acc: 0.9202\n",
      "Epoch 2/2\n",
      "29406/29406 [==============================] - 13s - loss: 0.1850 - acc: 0.9526 - val_loss: 0.1791 - val_acc: 0.9544\n",
      "Test score: 0.49975745837\n",
      "Test accuracy: 0.881314331024\n"
     ]
    }
   ],
   "source": [
    "# TODO: Re-construct the network and add a convolutional layer before the first fully-connected layer.\n",
    "# TODO: Compile and train the model.\n",
    "\n",
    "from keras.layers import Convolution2D, MaxPooling2D\n",
    "\n",
    "img_rows, img_cols = 28, 28\n",
    "nb_filters = 32\n",
    "pool_size = (2, 2)\n",
    "kernel_size = (3, 3)\n",
    "\n",
    "\n",
    "input_shape = (32, 32, 3)\n",
    "\n",
    "model = Sequential()\n",
    "\n",
    "model.add(Convolution2D(nb_filters, kernel_size[0], kernel_size[1],\n",
    "                        border_mode='valid',\n",
    "                        input_shape=input_shape))\n",
    "\n",
    "# model.add(MaxPooling2D(pool_size=pool_size))\n",
    "model.add(Activation('relu'))\n",
    "\n",
    "model.add(Flatten())\n",
    "model.add(Dense(128, input_shape=(32*32*3,), activation='relu', name='hidden1'))\n",
    "model.add(Dense(nb_classes, activation='softmax', name='output'))\n",
    "\n",
    "model.summary()\n",
    "\n",
    "model.compile(loss='categorical_crossentropy',\n",
    "              optimizer=Adam(),\n",
    "              metrics=['accuracy'])\n",
    "\n",
    "history = model.fit(X_train, y_train,\n",
    "                    batch_size=32, nb_epoch=2,\n",
    "                    verbose=1, validation_data=(X_val, y_val))\n",
    "score = model.evaluate(X_test, y_test, verbose=0)\n",
    "print('Test score:', score[0])\n",
    "print('Test accuracy:', score[1])\n",
    "\n",
    "\n",
    "# STOP: Do not change the tests below. Your implementation should pass these tests.\n",
    "assert(history.history['val_acc'][0] > 0.9), \"The validation accuracy is: %.3f\" % history.history['val_acc'][0]"
   ]
  },
  {
   "cell_type": "markdown",
   "metadata": {},
   "source": [
    "**Validation Accuracy**: val_acc: 0.9544 Test accuracy: 0.8813"
   ]
  },
  {
   "cell_type": "markdown",
   "metadata": {},
   "source": [
    "## Pooling\n",
    "Re-construct your network and add a 2x2 [pooling layer](https://keras.io/layers/pooling/#maxpooling2d) immediately following your convolutional layer.\n",
    "\n",
    "Then compile and train the network."
   ]
  },
  {
   "cell_type": "code",
   "execution_count": 25,
   "metadata": {
    "collapsed": false
   },
   "outputs": [
    {
     "name": "stdout",
     "output_type": "stream",
     "text": [
      "____________________________________________________________________________________________________\n",
      "Layer (type)                     Output Shape          Param #     Connected to                     \n",
      "====================================================================================================\n",
      "convolution2d_8 (Convolution2D)  (None, 30, 30, 32)    896         convolution2d_input_8[0][0]      \n",
      "____________________________________________________________________________________________________\n",
      "maxpooling2d_7 (MaxPooling2D)    (None, 15, 15, 32)    0           convolution2d_8[0][0]            \n",
      "____________________________________________________________________________________________________\n",
      "activation_8 (Activation)        (None, 15, 15, 32)    0           maxpooling2d_7[0][0]             \n",
      "____________________________________________________________________________________________________\n",
      "flatten_8 (Flatten)              (None, 7200)          0           activation_8[0][0]               \n",
      "____________________________________________________________________________________________________\n",
      "hidden1 (Dense)                  (None, 128)           921728      flatten_8[0][0]                  \n",
      "____________________________________________________________________________________________________\n",
      "output (Dense)                   (None, 43)            5547        hidden1[0][0]                    \n",
      "====================================================================================================\n",
      "Total params: 928171\n",
      "____________________________________________________________________________________________________\n",
      "Train on 29406 samples, validate on 9803 samples\n",
      "Epoch 1/2\n",
      "29406/29406 [==============================] - 10s - loss: 0.9410 - acc: 0.7564 - val_loss: 0.3363 - val_acc: 0.9122\n",
      "Epoch 2/2\n",
      "29406/29406 [==============================] - 9s - loss: 0.2180 - acc: 0.9452 - val_loss: 0.1889 - val_acc: 0.9523\n",
      "Test score: 0.531558108821\n",
      "Test accuracy: 0.876247030973\n"
     ]
    }
   ],
   "source": [
    "# TODO: Re-construct the network and add a pooling layer after the convolutional layer.\n",
    "# TODO: Compile and train the model.\n",
    "\n",
    "# TODO: Re-construct the network and add a convolutional layer before the first fully-connected layer.\n",
    "# TODO: Compile and train the model.\n",
    "\n",
    "from keras.layers import Convolution2D, MaxPooling2D\n",
    "\n",
    "img_rows, img_cols = 28, 28\n",
    "nb_filters = 32\n",
    "pool_size = (2, 2)\n",
    "kernel_size = (3, 3)\n",
    "\n",
    "\n",
    "input_shape = (32, 32, 3)\n",
    "\n",
    "model = Sequential()\n",
    "\n",
    "model.add(Convolution2D(nb_filters, kernel_size[0], kernel_size[1],\n",
    "                        border_mode='valid',\n",
    "                        input_shape=input_shape))\n",
    "\n",
    "model.add(MaxPooling2D(pool_size=pool_size))\n",
    "model.add(Activation('relu'))\n",
    "\n",
    "model.add(Flatten())\n",
    "model.add(Dense(128, input_shape=(32*32*3,), activation='relu', name='hidden1'))\n",
    "model.add(Dense(nb_classes, activation='softmax', name='output'))\n",
    "\n",
    "model.summary()\n",
    "\n",
    "model.compile(loss='categorical_crossentropy',\n",
    "              optimizer=Adam(),\n",
    "              metrics=['accuracy'])\n",
    "\n",
    "history = model.fit(X_train, y_train,\n",
    "                    batch_size=32, nb_epoch=2,\n",
    "                    verbose=1, validation_data=(X_val, y_val))\n",
    "score = model.evaluate(X_test, y_test, verbose=0)\n",
    "print('Test score:', score[0])\n",
    "print('Test accuracy:', score[1])\n",
    "\n",
    "\n",
    "# STOP: Do not change the tests below. Your implementation should pass these tests.\n",
    "assert(history.history['val_acc'][0] > 0.9), \"The validation accuracy is: %.3f\" % history.history['val_acc'][0]\n",
    "\n",
    "# STOP: Do not change the tests below. Your implementation should pass these tests.\n",
    "assert(history.history['val_acc'][0] > 0.9), \"The validation accuracy is: %.3f\" % history.history['val_acc'][0]"
   ]
  },
  {
   "cell_type": "markdown",
   "metadata": {},
   "source": [
    "**Validation Accuracy**:  val_acc: 0.9523 Test accuracy: 0.8762"
   ]
  },
  {
   "cell_type": "markdown",
   "metadata": {},
   "source": [
    "## Dropout\n",
    "Re-construct your network and add [dropout](https://keras.io/layers/core/#dropout) after the pooling layer. Set the dropout rate to 50%."
   ]
  },
  {
   "cell_type": "code",
   "execution_count": 26,
   "metadata": {
    "collapsed": false
   },
   "outputs": [
    {
     "name": "stdout",
     "output_type": "stream",
     "text": [
      "____________________________________________________________________________________________________\n",
      "Layer (type)                     Output Shape          Param #     Connected to                     \n",
      "====================================================================================================\n",
      "convolution2d_9 (Convolution2D)  (None, 30, 30, 32)    896         convolution2d_input_9[0][0]      \n",
      "____________________________________________________________________________________________________\n",
      "maxpooling2d_8 (MaxPooling2D)    (None, 15, 15, 32)    0           convolution2d_9[0][0]            \n",
      "____________________________________________________________________________________________________\n",
      "dropout_1 (Dropout)              (None, 15, 15, 32)    0           maxpooling2d_8[0][0]             \n",
      "____________________________________________________________________________________________________\n",
      "activation_9 (Activation)        (None, 15, 15, 32)    0           dropout_1[0][0]                  \n",
      "____________________________________________________________________________________________________\n",
      "flatten_9 (Flatten)              (None, 7200)          0           activation_9[0][0]               \n",
      "____________________________________________________________________________________________________\n",
      "hidden1 (Dense)                  (None, 128)           921728      flatten_9[0][0]                  \n",
      "____________________________________________________________________________________________________\n",
      "output (Dense)                   (None, 43)            5547        hidden1[0][0]                    \n",
      "====================================================================================================\n",
      "Total params: 928171\n",
      "____________________________________________________________________________________________________\n",
      "Train on 29406 samples, validate on 9803 samples\n",
      "Epoch 1/2\n",
      "29406/29406 [==============================] - 10s - loss: 1.0693 - acc: 0.7099 - val_loss: 0.3436 - val_acc: 0.9202\n",
      "Epoch 2/2\n",
      "29406/29406 [==============================] - 10s - loss: 0.3024 - acc: 0.9177 - val_loss: 0.2331 - val_acc: 0.9359\n",
      "Test score: 0.521512970222\n",
      "Test accuracy: 0.866904196377\n"
     ]
    }
   ],
   "source": [
    "# TODO: Re-construct the network and add dropout after the pooling layer.\n",
    "# TODO: Compile and train the model.\n",
    "\n",
    "model = Sequential()\n",
    "\n",
    "model.add(Convolution2D(nb_filters, kernel_size[0], kernel_size[1],\n",
    "                        border_mode='valid',\n",
    "                        input_shape=input_shape))\n",
    "\n",
    "model.add(MaxPooling2D(pool_size=pool_size))\n",
    "model.add(Dropout(p=0.5))\n",
    "model.add(Activation('relu'))\n",
    "\n",
    "model.add(Flatten())\n",
    "model.add(Dense(128, input_shape=(32*32*3,), activation='relu', name='hidden1'))\n",
    "model.add(Dense(nb_classes, activation='softmax', name='output'))\n",
    "\n",
    "model.summary()\n",
    "\n",
    "model.compile(loss='categorical_crossentropy',\n",
    "              optimizer=Adam(),\n",
    "              metrics=['accuracy'])\n",
    "\n",
    "history = model.fit(X_train, y_train,\n",
    "                    batch_size=32, nb_epoch=2,\n",
    "                    verbose=1, validation_data=(X_val, y_val))\n",
    "score = model.evaluate(X_test, y_test, verbose=0)\n",
    "print('Test score:', score[0])\n",
    "print('Test accuracy:', score[1])\n",
    "\n",
    "\n",
    "# STOP: Do not change the tests below. Your implementation should pass these tests.\n",
    "assert(history.history['val_acc'][0] > 0.9), \"The validation accuracy is: %.3f\" % history.history['val_acc'][0]"
   ]
  },
  {
   "cell_type": "markdown",
   "metadata": {
    "collapsed": true
   },
   "source": [
    "**Validation Accuracy**: val_acc: 0.9359 Test accuracy: 0.8669"
   ]
  },
  {
   "cell_type": "markdown",
   "metadata": {},
   "source": [
    "## Optimization\n",
    "Congratulations! You've built a neural network with convolutions, pooling, dropout, and fully-connected layers, all in just a few lines of code.\n",
    "\n",
    "Have fun with the model and see how well you can do! Add more layers, or regularization, or different padding, or batches, or more training epochs.\n",
    "\n",
    "What is the best validation accuracy you can achieve?"
   ]
  },
  {
   "cell_type": "code",
   "execution_count": 48,
   "metadata": {
    "collapsed": false
   },
   "outputs": [
    {
     "name": "stdout",
     "output_type": "stream",
     "text": [
      "____________________________________________________________________________________________________\n",
      "Layer (type)                     Output Shape          Param #     Connected to                     \n",
      "====================================================================================================\n",
      "convolution2d_42 (Convolution2D) (None, 30, 30, 32)    896         convolution2d_input_16[0][0]     \n",
      "____________________________________________________________________________________________________\n",
      "maxpooling2d_38 (MaxPooling2D)   (None, 15, 15, 32)    0           convolution2d_42[0][0]           \n",
      "____________________________________________________________________________________________________\n",
      "dropout_41 (Dropout)             (None, 15, 15, 32)    0           maxpooling2d_38[0][0]            \n",
      "____________________________________________________________________________________________________\n",
      "flatten_25 (Flatten)             (None, 7200)          0           dropout_41[0][0]                 \n",
      "____________________________________________________________________________________________________\n",
      "hidden1 (Dense)                  (None, 256)           1843456     flatten_25[0][0]                 \n",
      "____________________________________________________________________________________________________\n",
      "output (Dense)                   (None, 43)            11051       hidden1[0][0]                    \n",
      "====================================================================================================\n",
      "Total params: 1855403\n",
      "____________________________________________________________________________________________________\n",
      "Train on 29406 samples, validate on 9803 samples\n",
      "Epoch 1/25\n",
      "29406/29406 [==============================] - 5s - loss: 1.7579 - acc: 0.5241 - val_loss: 0.7326 - val_acc: 0.8148\n",
      "Epoch 2/25\n",
      "29406/29406 [==============================] - 4s - loss: 0.6902 - acc: 0.7995 - val_loss: 0.4110 - val_acc: 0.8971\n",
      "Epoch 3/25\n",
      "29406/29406 [==============================] - 4s - loss: 0.4868 - acc: 0.8582 - val_loss: 0.2986 - val_acc: 0.9256\n",
      "Epoch 4/25\n",
      "29406/29406 [==============================] - 4s - loss: 0.4007 - acc: 0.8814 - val_loss: 0.2250 - val_acc: 0.9512\n",
      "Epoch 5/25\n",
      "29406/29406 [==============================] - 4s - loss: 0.3442 - acc: 0.8979 - val_loss: 0.1935 - val_acc: 0.9537\n",
      "Epoch 6/25\n",
      "29406/29406 [==============================] - 4s - loss: 0.3118 - acc: 0.9074 - val_loss: 0.1709 - val_acc: 0.9607\n",
      "Epoch 7/25\n",
      "29406/29406 [==============================] - 3s - loss: 0.2749 - acc: 0.9154 - val_loss: 0.1476 - val_acc: 0.9708\n",
      "Epoch 8/25\n",
      "29406/29406 [==============================] - 3s - loss: 0.2535 - acc: 0.9258 - val_loss: 0.1447 - val_acc: 0.9703\n",
      "Epoch 9/25\n",
      "29406/29406 [==============================] - 3s - loss: 0.2398 - acc: 0.9272 - val_loss: 0.1340 - val_acc: 0.9655\n",
      "Epoch 10/25\n",
      "29406/29406 [==============================] - 3s - loss: 0.2193 - acc: 0.9337 - val_loss: 0.1288 - val_acc: 0.9733\n",
      "Epoch 11/25\n",
      "29406/29406 [==============================] - 3s - loss: 0.2042 - acc: 0.9382 - val_loss: 0.1216 - val_acc: 0.9742\n",
      "Epoch 12/25\n",
      "29406/29406 [==============================] - 3s - loss: 0.1952 - acc: 0.9415 - val_loss: 0.1088 - val_acc: 0.9768\n",
      "Epoch 13/25\n",
      "29406/29406 [==============================] - 3s - loss: 0.1716 - acc: 0.9469 - val_loss: 0.1101 - val_acc: 0.9751\n",
      "Epoch 14/25\n",
      "29406/29406 [==============================] - 3s - loss: 0.1755 - acc: 0.9477 - val_loss: 0.0982 - val_acc: 0.9789\n",
      "Epoch 15/25\n",
      "29406/29406 [==============================] - 3s - loss: 0.1582 - acc: 0.9512 - val_loss: 0.0920 - val_acc: 0.9797\n",
      "Epoch 16/25\n",
      "29406/29406 [==============================] - 3s - loss: 0.1467 - acc: 0.9547 - val_loss: 0.0925 - val_acc: 0.9813\n",
      "Epoch 17/25\n",
      "29406/29406 [==============================] - 3s - loss: 0.1431 - acc: 0.9559 - val_loss: 0.1013 - val_acc: 0.9759\n",
      "Epoch 18/25\n",
      "29406/29406 [==============================] - 3s - loss: 0.1334 - acc: 0.9590 - val_loss: 0.0827 - val_acc: 0.9818\n",
      "Epoch 19/25\n",
      "29406/29406 [==============================] - 3s - loss: 0.1295 - acc: 0.9598 - val_loss: 0.0761 - val_acc: 0.9851\n",
      "Epoch 20/25\n",
      "29406/29406 [==============================] - 3s - loss: 0.1210 - acc: 0.9624 - val_loss: 0.0796 - val_acc: 0.9829\n",
      "Epoch 21/25\n",
      "29406/29406 [==============================] - 3s - loss: 0.1193 - acc: 0.9621 - val_loss: 0.0717 - val_acc: 0.9859\n",
      "Epoch 22/25\n",
      "29406/29406 [==============================] - 3s - loss: 0.1159 - acc: 0.9633 - val_loss: 0.0772 - val_acc: 0.9851\n",
      "Epoch 23/25\n",
      "29406/29406 [==============================] - 3s - loss: 0.1079 - acc: 0.9664 - val_loss: 0.0671 - val_acc: 0.9879\n",
      "Epoch 24/25\n",
      "29406/29406 [==============================] - 3s - loss: 0.1029 - acc: 0.9688 - val_loss: 0.0678 - val_acc: 0.9864\n",
      "Epoch 25/25\n",
      "29406/29406 [==============================] - 3s - loss: 0.1026 - acc: 0.9671 - val_loss: 0.0632 - val_acc: 0.9870\n"
     ]
    }
   ],
   "source": [
    "# TODO: Re-construct the network and add dropout after the pooling layer.\n",
    "# TODO: Compile and train the model.\n",
    "\n",
    "model = Sequential()\n",
    "# model.add(Dropout(p=0.8, input_shape=input_shape))\n",
    "\n",
    "model.add(Convolution2D(32, 3, 3, input_shape=input_shape,\n",
    "                        border_mode='valid', activation='relu'))\n",
    "model.add(MaxPooling2D(pool_size=pool_size))\n",
    "model.add(Dropout(p=0.8))\n",
    "\n",
    "# model.add(Convolution2D(64, 3, 3,\n",
    "#                         border_mode='valid', activation='relu'))\n",
    "# model.add(MaxPooling2D(pool_size=pool_size))\n",
    "# model.add(Dropout(p=0.8))\n",
    "\n",
    "\n",
    "model.add(Flatten())\n",
    "model.add(Dense(256, activation='relu', name='hidden1'))\n",
    "# model.add(Dense(128, activation='relu', name='hidden2'))\n",
    "\n",
    "model.add(Dense(nb_classes, activation='softmax', name='output'))\n",
    "\n",
    "model.summary()\n",
    "\n",
    "model.compile(loss='categorical_crossentropy',\n",
    "              optimizer=Adam(),\n",
    "              metrics=['accuracy'])\n",
    "\n",
    "history = model.fit(X_train, y_train,\n",
    "                    batch_size=128, nb_epoch=25,\n",
    "                    verbose=1, validation_data=(X_val, y_val))"
   ]
  },
  {
   "cell_type": "markdown",
   "metadata": {},
   "source": [
    "**Best Validation Accuracy:** 98.8%"
   ]
  },
  {
   "cell_type": "markdown",
   "metadata": {},
   "source": [
    "## Testing\n",
    "Once you've picked out your best model, it's time to test it.\n",
    "\n",
    "Load up the test data and use the [`evaluate()` method](https://keras.io/models/model/#evaluate) to see how well it does.\n",
    "\n",
    "Hint 1: After you load your test data, don't forget to normalize the input and one-hot encode the output, so it matches the training data.\n",
    "\n",
    "Hint 2: The `evaluate()` method should return an array of numbers. Use the `metrics_names()` method to get the labels."
   ]
  },
  {
   "cell_type": "code",
   "execution_count": null,
   "metadata": {
    "collapsed": false
   },
   "outputs": [],
   "source": [
    "# with open('./test.p', mode='rb') as f:\n",
    "#     test = pickle.load(f)\n",
    "    \n",
    "# X_test = test['features']\n",
    "# y_test = test['labels']\n",
    "# X_test = X_test.astype('float32')\n",
    "# X_test /= 255\n",
    "# X_test -= 0.5\n",
    "# Y_test = np_utils.to_categorical(y_test, 43)\n",
    "\n",
    "# model.evaluate(X_test, Y_test)"
   ]
  },
  {
   "cell_type": "code",
   "execution_count": 49,
   "metadata": {
    "collapsed": false
   },
   "outputs": [
    {
     "name": "stdout",
     "output_type": "stream",
     "text": [
      "Test score: 0.429562601623\n",
      "Test accuracy: 0.902533650106\n",
      "['loss', 'acc']\n"
     ]
    }
   ],
   "source": [
    "score = model.evaluate(X_test, y_test, verbose=0)\n",
    "print('Test score:', score[0])\n",
    "print('Test accuracy:', score[1])\n",
    "print(model.metrics_names)"
   ]
  },
  {
   "cell_type": "markdown",
   "metadata": {},
   "source": [
    "**Test Accuracy:** 0.9087"
   ]
  },
  {
   "cell_type": "markdown",
   "metadata": {},
   "source": [
    "## Summary\n",
    "Keras is a great tool to use if you want to quickly build a neural network and evaluate performance."
   ]
  }
 ],
 "metadata": {
  "anaconda-cloud": {},
  "kernelspec": {
   "display_name": "Python 3",
   "language": "python",
   "name": "python3"
  },
  "language_info": {
   "codemirror_mode": {
    "name": "ipython",
    "version": 3
   },
   "file_extension": ".py",
   "mimetype": "text/x-python",
   "name": "python",
   "nbconvert_exporter": "python",
   "pygments_lexer": "ipython3",
   "version": "3.5.1"
  }
 },
 "nbformat": 4,
 "nbformat_minor": 0
}
